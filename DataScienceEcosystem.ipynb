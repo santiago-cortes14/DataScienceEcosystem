{
 "cells": [
  {
   "cell_type": "markdown",
   "id": "bfa93d8f-f5ed-4c08-97a5-3c66cd63159c",
   "metadata": {},
   "source": [
    "# Data Science Tools and Ecosystem"
   ]
  },
  {
   "cell_type": "markdown",
   "id": "264cd4ac-f256-41b8-b941-8b7c107d2568",
   "metadata": {},
   "source": [
    "In this notebook, Data Science Tools and Ecosystem are summarized"
   ]
  },
  {
   "cell_type": "markdown",
   "id": "392d2c6c-dc69-4f9e-9b2e-bdca2c240201",
   "metadata": {},
   "source": [
    "Some of the popular languages that Data Scientists use are:\n",
    "1. Python\n",
    "2. R\n",
    "3. SQL"
   ]
  },
  {
   "cell_type": "markdown",
   "id": "8cdd6113-5db1-48a1-b7af-eeaf7929b14e",
   "metadata": {},
   "source": [
    "Some of the commonly used libraries used by Data Scientists include:\n",
    "1. Numpy\n",
    "2. Pandas\n",
    "3. Matplotlib"
   ]
  },
  {
   "cell_type": "markdown",
   "id": "2d779ec8-0193-405f-bfc9-8bb528c9fe9a",
   "metadata": {},
   "source": [
    "| Data Science Tools |\n",
    "| ------------------ |\n",
    "| Google Colab |\n",
    "| R-Studio |\n",
    "| Visual Studio Code |"
   ]
  },
  {
   "cell_type": "markdown",
   "id": "041764d9-c232-4f80-85aa-4e8d0d10fc2b",
   "metadata": {},
   "source": [
    "### Below are a few examples of evaluating arithmetic expressions in Python"
   ]
  },
  {
   "cell_type": "code",
   "execution_count": 3,
   "id": "717dc5ec-9ae0-445f-be8e-74f130553f26",
   "metadata": {},
   "outputs": [
    {
     "data": {
      "text/plain": [
       "17"
      ]
     },
     "execution_count": 3,
     "metadata": {},
     "output_type": "execute_result"
    }
   ],
   "source": [
    "(3*4)+5 #This a simple arithmetic expression to mutiply then add integers"
   ]
  },
  {
   "cell_type": "code",
   "execution_count": 6,
   "id": "fe72f548-5dbe-4a30-9c6f-d08eddbd0e48",
   "metadata": {},
   "outputs": [
    {
     "data": {
      "text/plain": [
       "3.3333333333333335"
      ]
     },
     "execution_count": 6,
     "metadata": {},
     "output_type": "execute_result"
    }
   ],
   "source": [
    "minutes = 200\n",
    "hours = minutes / 60 #This will convert 200 minutes to hours by diving by 60\n",
    "hours"
   ]
  },
  {
   "cell_type": "markdown",
   "id": "17e0147e-8c18-4c67-a39c-412979ab39f2",
   "metadata": {},
   "source": [
    "# __Key takeaways from the course__"
   ]
  },
  {
   "cell_type": "markdown",
   "id": "eb2f2a24-5259-496f-9afc-b73dbe6807cc",
   "metadata": {},
   "source": [
    "* How to create a notebook\n",
    "* How to create Markdowns\n",
    "* How to comment a line of code\n",
    "* How to commit with git"
   ]
  },
  {
   "cell_type": "markdown",
   "id": "7666db20-f786-4aa3-96d1-64f17138d8d3",
   "metadata": {},
   "source": [
    "## Author"
   ]
  },
  {
   "cell_type": "markdown",
   "id": "6ccdd152-0858-4734-bc8c-593da8bed6ac",
   "metadata": {},
   "source": [
    "**Santiago Cortés Cabrera**"
   ]
  },
  {
   "cell_type": "code",
   "execution_count": null,
   "id": "885f6c35-e8a8-4cd7-bea8-3a7b18984bb6",
   "metadata": {},
   "outputs": [],
   "source": []
  }
 ],
 "metadata": {
  "kernelspec": {
   "display_name": "Python 3 (ipykernel)",
   "language": "python",
   "name": "python3"
  },
  "language_info": {
   "codemirror_mode": {
    "name": "ipython",
    "version": 3
   },
   "file_extension": ".py",
   "mimetype": "text/x-python",
   "name": "python",
   "nbconvert_exporter": "python",
   "pygments_lexer": "ipython3",
   "version": "3.11.8"
  }
 },
 "nbformat": 4,
 "nbformat_minor": 5
}
